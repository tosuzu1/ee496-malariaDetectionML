{
 "cells": [
  {
   "cell_type": "markdown",
   "metadata": {
    "colab_type": "text",
    "id": "BVi1d71PgYYW"
   },
   "source": [
    "This is the KERAS CNN implementation for the MALARIA CELL IMAGES DATASET\n",
    "\n",
    "Breakdown of this notebook:\n",
    "\n",
    "Loading the dataset: Load the data and import the libraries."
   ]
  },
  {
   "cell_type": "code",
   "execution_count": 1,
   "metadata": {
    "colab": {
     "base_uri": "https://localhost:8080/",
     "height": 34
    },
    "colab_type": "code",
    "id": "QtfOemEYgPwh",
    "outputId": "83392fec-23c6-47a5-c14c-516368524e62"
   },
   "outputs": [],
   "source": [
    "import numpy as np\n",
    "import pandas as pd\n",
    "from zipfile import ZipFile\n",
    "import os\n",
    "import cv2\n",
    "from PIL import Image\n",
    "# For CNN model creation\n",
    "from tensorflow.keras.utils import to_categorical\n",
    "from tensorflow.keras.layers import Convolution2D, MaxPooling2D, Flatten, Dense, BatchNormalization, Dropout\n",
    "from tensorflow.keras.models import Sequential\n",
    "from tensorflow.keras.regularizers import l1, l2, l1_l2\n",
    "import tensorflow as tf\n",
    "import matplotlib.pyplot as plt\n",
    "\n",
    "from sklearn.model_selection import train_test_split\n",
    "SIZE = 64"
   ]
  },
  {
   "cell_type": "code",
   "execution_count": 2,
   "metadata": {
    "colab": {},
    "colab_type": "code",
    "id": "vRgyHuQhk893"
   },
   "outputs": [],
   "source": [
    "infected = os.listdir('.\\\\cell_images\\\\cell_images\\\\Parasitized') \n",
    "uninfected = os.listdir('.\\\\cell_images\\\\cell_images\\\\Uninfected')"
   ]
  },
  {
   "cell_type": "code",
   "execution_count": 3,
   "metadata": {
    "colab": {
     "base_uri": "https://localhost:8080/",
     "height": 51
    },
    "colab_type": "code",
    "id": "X-t95fumlkiG",
    "outputId": "f9ea2b8a-eee2-4ca5-dce1-83668f36eb66"
   },
   "outputs": [
    {
     "name": "stdout",
     "output_type": "stream",
     "text": [
      "\n",
      "\n"
     ]
    }
   ],
   "source": [
    "data = []\n",
    "labels = []\n",
    "\n",
    "for i in infected:\n",
    "    try:\n",
    "    \n",
    "        image = cv2.imread(\".\\\\cell_images\\\\cell_images\\\\Parasitized\\\\\"+i)\n",
    "        image_array = Image.fromarray(image , 'RGB')\n",
    "        resize_img = image_array.resize((64 , 64))\n",
    "        data.append(np.array(resize_img))\n",
    "        label = to_categorical(1, num_classes=2)\n",
    "        labels.append(label)\n",
    "        \n",
    "    except AttributeError:\n",
    "        print('')\n",
    "    \n",
    "for u in uninfected:\n",
    "    try:\n",
    "        \n",
    "        image = cv2.imread(\".\\\\cell_images\\\\cell_images\\\\Uninfected\\\\\"+u)\n",
    "        image_array = Image.fromarray(image , 'RGB')\n",
    "        resize_img = image_array.resize((64 , 64))\n",
    "        data.append(np.array(resize_img))\n",
    "        label = to_categorical(0, num_classes=2)\n",
    "        labels.append(label)\n",
    "        \n",
    "    except AttributeError:\n",
    "        print('')\n",
    "\n",
    "labels = np.array(labels)"
   ]
  },
  {
   "cell_type": "code",
   "execution_count": 4,
   "metadata": {
    "colab": {
     "base_uri": "https://localhost:8080/",
     "height": 34
    },
    "colab_type": "code",
    "id": "BXEHl8GQhXDJ",
    "outputId": "0f1f5312-4c06-42a6-baf9-5b52d9c6bf79"
   },
   "outputs": [
    {
     "name": "stdout",
     "output_type": "stream",
     "text": [
      "(22046, 64, 64, 3)\n"
     ]
    }
   ],
   "source": [
    "  x_train, x_test = train_test_split(data, test_size=0.2, random_state=1,shuffle = True)\n",
    "  y_train, y_test = train_test_split(labels, test_size=0.2, random_state=1)\n",
    "  print(np.array(x_train).shape)"
   ]
  },
  {
   "cell_type": "code",
   "execution_count": null,
   "metadata": {
    "colab": {
     "base_uri": "https://localhost:8080/",
     "height": 1000
    },
    "colab_type": "code",
    "id": "n-oXJVMrhrea",
    "outputId": "a8e7d519-f81d-4822-a800-ad9af1198f3d",
    "scrolled": false
   },
   "outputs": [
    {
     "name": "stdout",
     "output_type": "stream",
     "text": [
      "Model: \"sequential\"\n",
      "_________________________________________________________________\n",
      "Layer (type)                 Output Shape              Param #   \n",
      "=================================================================\n",
      "conv2d (Conv2D)              (None, 62, 62, 32)        896       \n",
      "_________________________________________________________________\n",
      "max_pooling2d (MaxPooling2D) (None, 31, 31, 32)        0         \n",
      "_________________________________________________________________\n",
      "batch_normalization (BatchNo (None, 31, 31, 32)        128       \n",
      "_________________________________________________________________\n",
      "conv2d_1 (Conv2D)            (None, 29, 29, 32)        9248      \n",
      "_________________________________________________________________\n",
      "max_pooling2d_1 (MaxPooling2 (None, 14, 14, 32)        0         \n",
      "_________________________________________________________________\n",
      "batch_normalization_1 (Batch (None, 14, 14, 32)        128       \n",
      "_________________________________________________________________\n",
      "flatten (Flatten)            (None, 6272)              0         \n",
      "_________________________________________________________________\n",
      "dense (Dense)                (None, 512)               3211776   \n",
      "_________________________________________________________________\n",
      "batch_normalization_2 (Batch (None, 512)               2048      \n",
      "_________________________________________________________________\n",
      "dense_1 (Dense)              (None, 256)               131328    \n",
      "_________________________________________________________________\n",
      "batch_normalization_3 (Batch (None, 256)               1024      \n",
      "_________________________________________________________________\n",
      "dense_2 (Dense)              (None, 2)                 514       \n",
      "=================================================================\n",
      "Total params: 3,357,090\n",
      "Trainable params: 3,355,426\n",
      "Non-trainable params: 1,664\n",
      "_________________________________________________________________\n",
      "None\n",
      "Train on 19841 samples, validate on 2205 samples\n",
      "Epoch 1/30\n",
      "19841/19841 - 5s - loss: 0.3636 - accuracy: 0.8390 - val_loss: 0.4589 - val_accuracy: 0.8912\n",
      "Epoch 2/30\n",
      "19841/19841 - 3s - loss: 0.1866 - accuracy: 0.9280 - val_loss: 0.8519 - val_accuracy: 0.8562\n",
      "Epoch 3/30\n",
      "19841/19841 - 3s - loss: 0.1529 - accuracy: 0.9397 - val_loss: 0.2137 - val_accuracy: 0.9166\n",
      "Epoch 4/30\n",
      "19841/19841 - 3s - loss: 0.1236 - accuracy: 0.9499 - val_loss: 0.2429 - val_accuracy: 0.9098\n",
      "Epoch 5/30\n",
      "19841/19841 - 3s - loss: 0.1049 - accuracy: 0.9558 - val_loss: 0.3154 - val_accuracy: 0.9170\n",
      "Epoch 6/30\n",
      "19841/19841 - 3s - loss: 0.0846 - accuracy: 0.9650 - val_loss: 0.2765 - val_accuracy: 0.9002\n",
      "Epoch 7/30\n",
      "19841/19841 - 3s - loss: 0.0749 - accuracy: 0.9679 - val_loss: 1.8737 - val_accuracy: 0.5991\n",
      "Epoch 8/30\n",
      "19841/19841 - 3s - loss: 0.0572 - accuracy: 0.9746 - val_loss: 0.5630 - val_accuracy: 0.8893\n",
      "Epoch 9/30\n",
      "19841/19841 - 3s - loss: 0.0394 - accuracy: 0.9813 - val_loss: 1.7112 - val_accuracy: 0.6268\n",
      "Epoch 10/30\n",
      "19841/19841 - 3s - loss: 0.0374 - accuracy: 0.9841 - val_loss: 0.5151 - val_accuracy: 0.8358\n",
      "Epoch 11/30\n",
      "19841/19841 - 3s - loss: 0.0290 - accuracy: 0.9865 - val_loss: 0.4656 - val_accuracy: 0.9147\n",
      "Epoch 12/30\n",
      "19841/19841 - 3s - loss: 0.0226 - accuracy: 0.9900 - val_loss: 0.3097 - val_accuracy: 0.9370\n",
      "Epoch 13/30\n",
      "19841/19841 - 3s - loss: 0.0235 - accuracy: 0.9904 - val_loss: 0.2674 - val_accuracy: 0.9388\n",
      "Epoch 14/30\n",
      "19841/19841 - 3s - loss: 0.0194 - accuracy: 0.9916 - val_loss: 0.3542 - val_accuracy: 0.9424\n",
      "Epoch 15/30\n",
      "19841/19841 - 3s - loss: 0.0166 - accuracy: 0.9927 - val_loss: 0.2289 - val_accuracy: 0.9556\n",
      "Epoch 16/30\n",
      "19841/19841 - 3s - loss: 0.0106 - accuracy: 0.9952 - val_loss: 0.2691 - val_accuracy: 0.9211\n",
      "Epoch 17/30\n",
      "19841/19841 - 3s - loss: 0.0115 - accuracy: 0.9945 - val_loss: 0.3497 - val_accuracy: 0.9424\n",
      "Epoch 18/30\n",
      "19841/19841 - 3s - loss: 0.0116 - accuracy: 0.9948 - val_loss: 0.2918 - val_accuracy: 0.9361\n",
      "Epoch 19/30\n",
      "19841/19841 - 3s - loss: 0.0082 - accuracy: 0.9961 - val_loss: 0.2993 - val_accuracy: 0.9483\n",
      "Epoch 20/30\n",
      "19841/19841 - 3s - loss: 0.0049 - accuracy: 0.9977 - val_loss: 0.2364 - val_accuracy: 0.9469\n",
      "Epoch 21/30\n",
      "19841/19841 - 3s - loss: 0.0182 - accuracy: 0.9926 - val_loss: 0.3596 - val_accuracy: 0.9383\n",
      "Epoch 22/30\n",
      "19841/19841 - 3s - loss: 0.0097 - accuracy: 0.9960 - val_loss: 0.2603 - val_accuracy: 0.9483\n",
      "Epoch 23/30\n",
      "19841/19841 - 3s - loss: 0.0048 - accuracy: 0.9981 - val_loss: 0.2870 - val_accuracy: 0.9492\n",
      "Epoch 24/30\n",
      "19841/19841 - 3s - loss: 0.0023 - accuracy: 0.9986 - val_loss: 0.3045 - val_accuracy: 0.9474\n",
      "Epoch 25/30\n",
      "19841/19841 - 3s - loss: 0.0015 - accuracy: 0.9987 - val_loss: 0.3342 - val_accuracy: 0.9483\n",
      "Epoch 26/30\n",
      "19841/19841 - 3s - loss: 0.0012 - accuracy: 0.9989 - val_loss: 0.3305 - val_accuracy: 0.9501\n",
      "Epoch 27/30\n",
      "19841/19841 - 3s - loss: 0.0011 - accuracy: 0.9990 - val_loss: 0.3392 - val_accuracy: 0.9497\n",
      "Epoch 28/30\n"
     ]
    }
   ],
   "source": [
    "regulization_list = [0, 0.0000000001, 0.000000001, 0.00000001, 0.0000001, 0.000001, 0.00001, 0.0001, 0.001, 0.01, 0.1, 1,10]\n",
    "#regulization_list = np.logspace(-10,1,32)\n",
    "#regulization_list = np.insert(regulization_list, 0, 0)\n",
    "\n",
    "# probability axis values \n",
    "prob = []\n",
    "# loss axis values \n",
    "loss = []\n",
    "history = []\n",
    "for i in regulization_list:\n",
    "    classifier = tf.keras.Sequential()\n",
    "    classifier.add(Convolution2D(32, (3, 3), input_shape = (SIZE, SIZE, 3), activation = 'relu'))\n",
    "    classifier.add(MaxPooling2D(pool_size = (2, 2), data_format=\"channels_last\"))\n",
    "    classifier.add(BatchNormalization(axis = -1))\n",
    "    classifier.add(Convolution2D(32, (3, 3), activation = 'relu'))\n",
    "    classifier.add(MaxPooling2D(pool_size = (2, 2), data_format=\"channels_last\"))\n",
    "    classifier.add(BatchNormalization(axis = -1))\n",
    "    classifier.add(Flatten())\n",
    "    classifier.add(Dense(activation = 'relu', units=512))\n",
    "    classifier.add(BatchNormalization(axis = -1))\n",
    "    classifier.add(Dense(activation = 'relu', units=256))\n",
    "    classifier.add(BatchNormalization(axis = -1))\n",
    "    classifier.add(Dense(kernel_regularizer=l1(i), activation = 'sigmoid', units=2))\n",
    "    classifier.compile(optimizer = 'adam', loss = 'categorical_crossentropy', metrics = ['accuracy'])\n",
    "    print(classifier.summary())\n",
    "\n",
    "    history.append(classifier.fit(np.array(x_train), \n",
    "                         y_train, \n",
    "                         batch_size = 64, \n",
    "                         verbose = 2, \n",
    "                         epochs = 30, \n",
    "                         validation_split = 0.1,\n",
    "                         shuffle = False))\n",
    "\n",
    "    print(\"Test_Accuracy: {:.2f}%\".format(classifier.evaluate(np.array(x_test), np.array(y_test))[1]*100))\n",
    "    loss.append(classifier.evaluate(np.array(x_test), np.array(y_test)))\n",
    "    print(classifier.evaluate(np.array(x_test), np.array(y_test)))"
   ]
  },
  {
   "cell_type": "code",
   "execution_count": null,
   "metadata": {
    "colab": {},
    "colab_type": "code",
    "id": "pygL8qKhY7Qh"
   },
   "outputs": [],
   "source": [
    "print(loss)\n",
    "print(regulization_list)\n",
    "loss1 = []\n",
    "accu = []\n",
    "val_loss = []\n",
    "val_accu = []\n",
    "for i in loss:\n",
    "    loss1.append(i[0])\n",
    "    accu.append(i[1])\n",
    "for k in history:\n",
    "    val_accu.append(k.history['val_accuracy'][29])\n",
    "    val_loss.append(k.history['val_loss'][29])\n",
    "    "
   ]
  },
  {
   "cell_type": "code",
   "execution_count": null,
   "metadata": {},
   "outputs": [],
   "source": [
    "plt.semilogx(regulization_list, loss1,'o-',label='loss')\n",
    "plt.semilogx(regulization_list, accu,'x-',label='accuracy')\n",
    "plt.semilogx(regulization_list, val_accu,'*-',label='val accuracy')\n",
    "plt.semilogx(regulization_list, val_loss,'s-',label='val loss')\n",
    "plt.title('loss vs regulization value')\n",
    "plt.xlabel('regulization value')\n",
    "plt.ylabel('loss')\n",
    "plt.legend()"
   ]
  },
  {
   "cell_type": "code",
   "execution_count": null,
   "metadata": {},
   "outputs": [],
   "source": [
    "print(history[1].history['val_loss'][29])"
   ]
  },
  {
   "cell_type": "code",
   "execution_count": null,
   "metadata": {},
   "outputs": [],
   "source": []
  }
 ],
 "metadata": {
  "colab": {
   "collapsed_sections": [],
   "name": "EE496_Malaria_Deteection.ipynb",
   "provenance": []
  },
  "kernelspec": {
   "display_name": "Python 3",
   "language": "python",
   "name": "python3"
  },
  "language_info": {
   "codemirror_mode": {
    "name": "ipython",
    "version": 3
   },
   "file_extension": ".py",
   "mimetype": "text/x-python",
   "name": "python",
   "nbconvert_exporter": "python",
   "pygments_lexer": "ipython3",
   "version": "3.7.7"
  }
 },
 "nbformat": 4,
 "nbformat_minor": 1
}
